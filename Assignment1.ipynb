{
  "nbformat": 4,
  "nbformat_minor": 0,
  "metadata": {
    "colab": {
      "provenance": [],
      "authorship_tag": "ABX9TyNkgtbGN1T4XZIKAUAwzLYK",
      "include_colab_link": true
    },
    "kernelspec": {
      "name": "python3",
      "display_name": "Python 3"
    },
    "language_info": {
      "name": "python"
    }
  },
  "cells": [
    {
      "cell_type": "markdown",
      "metadata": {
        "id": "view-in-github",
        "colab_type": "text"
      },
      "source": [
        "<a href=\"https://colab.research.google.com/github/manjotbilkhu/manjotbilkhu/blob/main/Assignment1.ipynb\" target=\"_parent\"><img src=\"https://colab.research.google.com/assets/colab-badge.svg\" alt=\"Open In Colab\"/></a>"
      ]
    },
    {
      "cell_type": "code",
      "execution_count": 1,
      "metadata": {
        "colab": {
          "base_uri": "https://localhost:8080/"
        },
        "id": "Oz1OFs-oePZd",
        "outputId": "b1a68234-50a6-47d9-a582-b7d14010cf8c"
      },
      "outputs": [
        {
          "name": "stdout",
          "output_type": "stream",
          "text": [
            "enter number1 - 5\n"
          ]
        }
      ],
      "source": [
        "number=int(input('enter number1 - '))"
      ]
    },
    {
      "cell_type": "code",
      "source": [
        "operation = input(\"enter the number1 you want to categorize - \")"
      ],
      "metadata": {
        "colab": {
          "base_uri": "https://localhost:8080/"
        },
        "id": "_4WemEMOeSxu",
        "outputId": "d345b542-98dc-4812-ab37-b6de0f9081f1"
      },
      "execution_count": 2,
      "outputs": [
        {
          "name": "stdout",
          "output_type": "stream",
          "text": [
            "enter the number1 you want to categorize - 8\n"
          ]
        }
      ]
    },
    {
      "cell_type": "code",
      "source": [
        "operation"
      ],
      "metadata": {
        "colab": {
          "base_uri": "https://localhost:8080/",
          "height": 36
        },
        "id": "4OaBdzkyeYc1",
        "outputId": "391b6138-4a9c-4da2-b06d-0fae6a41a3b4"
      },
      "execution_count": 3,
      "outputs": [
        {
          "output_type": "execute_result",
          "data": {
            "text/plain": [
              "'8'"
            ],
            "application/vnd.google.colaboratory.intrinsic+json": {
              "type": "string"
            }
          },
          "metadata": {},
          "execution_count": 3
        }
      ]
    },
    {
      "cell_type": "code",
      "source": [
        " if number < 0:\n",
        "   print( \"The number is negative.\")\n",
        " elif number == 0:\n",
        "   print( \"The number is zero.\")\n",
        " else:\n",
        "   print( \"The number is positive.\")"
      ],
      "metadata": {
        "colab": {
          "base_uri": "https://localhost:8080/"
        },
        "id": "svbllSB8eeD5",
        "outputId": "98eaca24-2eb3-4f83-b6fa-6a63bcc4e4dd"
      },
      "execution_count": 4,
      "outputs": [
        {
          "output_type": "stream",
          "name": "stdout",
          "text": [
            "The number is positive.\n"
          ]
        }
      ]
    },
    {
      "cell_type": "code",
      "source": [],
      "metadata": {
        "id": "iJw3aG8yehLA"
      },
      "execution_count": null,
      "outputs": []
    }
  ]
}